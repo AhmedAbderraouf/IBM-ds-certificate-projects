{
 "cells": [
  {
   "cell_type": "markdown",
   "id": "fed646e6-42f0-4cf5-be8a-72ded889864a",
   "metadata": {},
   "source": [
    "# Data Science Tools and Ecosystem"
   ]
  },
  {
   "cell_type": "markdown",
   "id": "b973d704-adcd-44c6-9acd-035ad4ccaddd",
   "metadata": {},
   "source": [
    "In this notebook, Data Science Tools and Ecosystem are summarized."
   ]
  },
  {
   "cell_type": "markdown",
   "id": "953c4a93-3684-48ab-a14e-a744359407ec",
   "metadata": {},
   "source": [
    "Objectives:\n",
    "- List popular Languages for Data Science\n",
    "- List common Libraries for Data Science\n",
    "- List common Enviroments for Data Science\n"
   ]
  },
  {
   "cell_type": "markdown",
   "id": "0cd2e6a8-187d-4ce3-9cdd-38c799e0e263",
   "metadata": {},
   "source": [
    "Some of the popular languages that Data Scientists use are:\n",
    "1. R\n",
    "2. Python\n",
    "3. Scala"
   ]
  },
  {
   "cell_type": "markdown",
   "id": "55203198-7c06-4ce2-bb00-73fba84e8378",
   "metadata": {},
   "source": [
    "Some of the commonly used libraries used by Data Scientists include:\n",
    "\n",
    "1. Numpy\n",
    "2. Pandas\n",
    "3. Scikit-Learn"
   ]
  },
  {
   "cell_type": "markdown",
   "id": "7b9e2a2a-b49e-4687-ac58-e0954144f9b1",
   "metadata": {},
   "source": [
    "| Data Science Tools |\n",
    "|--------------------|\n",
    "| R-Studio |\n",
    "| Jupyter Notebook |\n",
    "| Apache Hadoop |"
   ]
  },
  {
   "cell_type": "markdown",
   "id": "2469ccb8-b847-4098-8d31-661a404fab2e",
   "metadata": {},
   "source": [
    "### Below are a few examples of evaluating arithmetic expressions in Python"
   ]
  },
  {
   "cell_type": "code",
   "execution_count": 3,
   "id": "aa44f01f-2e11-415e-9144-8e41b9afae70",
   "metadata": {},
   "outputs": [
    {
     "data": {
      "text/plain": [
       "17"
      ]
     },
     "execution_count": 3,
     "metadata": {},
     "output_type": "execute_result"
    }
   ],
   "source": [
    "(3*4)+5\n",
    "# This is a simple arithmetic expression to multiple then add integers"
   ]
  },
  {
   "cell_type": "code",
   "execution_count": 5,
   "id": "717eac2a-f111-40b3-b176-4e21485b7d6d",
   "metadata": {},
   "outputs": [
    {
     "name": "stdout",
     "output_type": "stream",
     "text": [
      "200 minutes is equal to 3.3333333333333335 hours\n"
     ]
    }
   ],
   "source": [
    "minutes = 200\n",
    "hours = minutes/60\n",
    "print(f\"{minutes} minutes is equal to {hours} hours\")\n",
    "\n",
    "# This will convert 200 minutes to hours by dividing by 60"
   ]
  },
  {
   "cell_type": "markdown",
   "id": "1c40a3b0-2f2b-4c99-9e84-b723331978d4",
   "metadata": {},
   "source": [
    "## Author: Ahmed Abderraouf Menaa"
   ]
  }
 ],
 "metadata": {
  "kernelspec": {
   "display_name": "Python 3 (ipykernel)",
   "language": "python",
   "name": "python3"
  },
  "language_info": {
   "codemirror_mode": {
    "name": "ipython",
    "version": 3
   },
   "file_extension": ".py",
   "mimetype": "text/x-python",
   "name": "python",
   "nbconvert_exporter": "python",
   "pygments_lexer": "ipython3",
   "version": "3.11.9"
  }
 },
 "nbformat": 4,
 "nbformat_minor": 5
}
